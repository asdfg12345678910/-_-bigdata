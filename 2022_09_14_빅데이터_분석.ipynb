{
  "nbformat": 4,
  "nbformat_minor": 0,
  "metadata": {
    "colab": {
      "provenance": [],
      "authorship_tag": "ABX9TyOqd1NiFtGGai3vtHrA+u27",
      "include_colab_link": true
    },
    "kernelspec": {
      "name": "python3",
      "display_name": "Python 3"
    },
    "language_info": {
      "name": "python"
    }
  },
  "cells": [
    {
      "cell_type": "markdown",
      "metadata": {
        "id": "view-in-github",
        "colab_type": "text"
      },
      "source": [
        "<a href=\"https://colab.research.google.com/github/asdfg12345678910/-_-bigdata/blob/main/2022_09_14_%EB%B9%85%EB%8D%B0%EC%9D%B4%ED%84%B0_%EB%B6%84%EC%84%9D.ipynb\" target=\"_parent\"><img src=\"https://colab.research.google.com/assets/colab-badge.svg\" alt=\"Open In Colab\"/></a>"
      ]
    },
    {
      "cell_type": "code",
      "execution_count": null,
      "metadata": {
        "colab": {
          "base_uri": "https://localhost:8080/"
        },
        "id": "i9kRH3PbfsMX",
        "outputId": "dc3c0e2c-d220-4cc1-868d-4df5e60f18da"
      },
      "outputs": [
        {
          "output_type": "stream",
          "name": "stdout",
          "text": [
            "[(0, '사과'), (1, '오렌지'), (2, '멜론'), (3, '포도'), (4, '바나나')]\n"
          ]
        }
      ],
      "source": [
        "fruits=['사과','오렌지','멜론','포도','바나나']\n",
        "a=list(enumerate(fruits))\n",
        "print(a)"
      ]
    },
    {
      "cell_type": "code",
      "source": [
        "s='hello python'\n",
        "print(s.split())"
      ],
      "metadata": {
        "colab": {
          "base_uri": "https://localhost:8080/"
        },
        "id": "BVEXVatvgFeG",
        "outputId": "a5ce31cb-0abf-40f1-e8b5-769ccd4e8ac0"
      },
      "execution_count": null,
      "outputs": [
        {
          "output_type": "stream",
          "name": "stdout",
          "text": [
            "['hello', 'python']\n"
          ]
        }
      ]
    },
    {
      "cell_type": "code",
      "source": [
        "data='2022-09-14'\n",
        "print(data.split('-'))"
      ],
      "metadata": {
        "colab": {
          "base_uri": "https://localhost:8080/"
        },
        "id": "lBJr341kgQSc",
        "outputId": "b14e56f1-15bc-4b61-8262-f48328d83071"
      },
      "execution_count": null,
      "outputs": [
        {
          "output_type": "stream",
          "name": "stdout",
          "text": [
            "['2022', '09', '14']\n"
          ]
        }
      ]
    },
    {
      "cell_type": "code",
      "source": [
        "print(data.split('-')[0])"
      ],
      "metadata": {
        "colab": {
          "base_uri": "https://localhost:8080/"
        },
        "id": "sNTOvr1jgcc9",
        "outputId": "e28f87d1-f0c1-4983-ecab-464a35ec67e7"
      },
      "execution_count": null,
      "outputs": [
        {
          "output_type": "stream",
          "name": "stdout",
          "text": [
            "2022\n"
          ]
        }
      ]
    },
    {
      "cell_type": "code",
      "source": [
        "print(data.split('-')[1])"
      ],
      "metadata": {
        "colab": {
          "base_uri": "https://localhost:8080/"
        },
        "id": "pQ3mlimpgpcc",
        "outputId": "98a0fb88-e638-4a23-ec4e-9a3d6b960a52"
      },
      "execution_count": null,
      "outputs": [
        {
          "output_type": "stream",
          "name": "stdout",
          "text": [
            "09\n"
          ]
        }
      ]
    },
    {
      "cell_type": "code",
      "source": [
        "b=[]\n",
        "for i in range(5):\n",
        "  b.append(i**2)\n",
        "print(b)"
      ],
      "metadata": {
        "colab": {
          "base_uri": "https://localhost:8080/"
        },
        "id": "yzZhDBfIod-E",
        "outputId": "dee6916b-06e2-4932-b44b-4b4ebba41651"
      },
      "execution_count": null,
      "outputs": [
        {
          "output_type": "stream",
          "name": "stdout",
          "text": [
            "[0, 1, 4, 9, 16]\n"
          ]
        }
      ]
    },
    {
      "cell_type": "code",
      "source": [
        "import csv"
      ],
      "metadata": {
        "id": "oUsIV8kmiQcO"
      },
      "execution_count": null,
      "outputs": []
    },
    {
      "cell_type": "code",
      "source": [
        "f=open('/content/sample_data/기상기온.csv', encoding='cp949')\n",
        "data=csv.reader(f)\n",
        "for row in data:\n",
        " print(row)"
      ],
      "metadata": {
        "colab": {
          "base_uri": "https://localhost:8080/"
        },
        "id": "p_SU1Mx4lIy0",
        "outputId": "93e35d0a-bd3b-4c07-bd34-9c22675deced"
      },
      "execution_count": null,
      "outputs": [
        {
          "output_type": "stream",
          "name": "stdout",
          "text": [
            "['날짜', '지점', '평균기온(℃)', '최저기온(℃)', '최고기온(℃)']\n",
            "['2022-08-15', '108', '28.1', '26.6', '29.8']\n",
            "['2022-08-16', '108', '26.7', '24.1', '30']\n",
            "['2022-08-17', '108', '26', '22.8', '30.5']\n",
            "['2022-08-18', '108', '25.6', '22.4', '29.8']\n",
            "['2022-08-19', '108', '26', '23.3', '27.5']\n",
            "['2022-08-20', '108', '28.2', '25.7', '32']\n",
            "['2022-08-21', '108', '28.1', '24.7', '32']\n",
            "['2022-08-22', '108', '26.8', '22.9', '30.2']\n",
            "['2022-08-23', '108', '25.4', '22.4', '30.2']\n",
            "['2022-08-24', '108', '24.8', '22.4', '27.9']\n",
            "['2022-08-25', '108', '22.2', '21.1', '24']\n",
            "['2022-08-26', '108', '23.8', '19.9', '28.4']\n",
            "['2022-08-27', '108', '21.5', '17.6', '25.5']\n",
            "['2022-08-28', '108', '22.6', '16.1', '28.4']\n",
            "['2022-08-29', '108', '21', '19.5', '22.5']\n",
            "['2022-08-30', '108', '19.1', '17.9', '20.3']\n",
            "['2022-08-31', '108', '21.7', '19.6', '24.9']\n",
            "['2022-09-01', '108', '24', '18.3', '30.4']\n",
            "['2022-09-02', '108', '24.7', '20.3', '29.8']\n",
            "['2022-09-03', '108', '24.2', '20.5', '29.2']\n",
            "['2022-09-04', '108', '22.3', '19.8', '24']\n",
            "['2022-09-05', '108', '19.2', '17.7', '22.7']\n",
            "['2022-09-06', '108', '21', '17', '26.3']\n",
            "['2022-09-07', '108', '22.8', '17.9', '28.1']\n",
            "['2022-09-08', '108', '23.2', '16.7', '29.5']\n",
            "['2022-09-09', '108', '24.3', '18.9', '30.8']\n",
            "['2022-09-10', '108', '23.6', '19', '28.4']\n",
            "['2022-09-11', '108', '23.3', '20.6', '26.4']\n",
            "['2022-09-12', '108', '23.8', '20.3', '27.5']\n",
            "['2022-09-13', '108', '24.3', '21.8', '26.4']\n"
          ]
        }
      ]
    },
    {
      "cell_type": "markdown",
      "source": [
        "서울의 최고기온 분석"
      ],
      "metadata": {
        "id": "qz1pHLT9mlnb"
      }
    },
    {
      "cell_type": "code",
      "source": [
        "f=open('/content/sample_data/기상기온.csv', encoding='cp949')\n",
        "data=csv.reader(f)\n",
        "next(data)\n",
        "for row in data:\n",
        "   print(row[-1])"
      ],
      "metadata": {
        "colab": {
          "base_uri": "https://localhost:8080/"
        },
        "id": "_EFsq-zXlRhD",
        "outputId": "461bc8e9-47ba-422b-d707-6967bd43747b"
      },
      "execution_count": null,
      "outputs": [
        {
          "output_type": "stream",
          "name": "stdout",
          "text": [
            "29.8\n",
            "30\n",
            "30.5\n",
            "29.8\n",
            "27.5\n",
            "32\n",
            "32\n",
            "30.2\n",
            "30.2\n",
            "27.9\n",
            "24\n",
            "28.4\n",
            "25.5\n",
            "28.4\n",
            "22.5\n",
            "20.3\n",
            "24.9\n",
            "30.4\n",
            "29.8\n",
            "29.2\n",
            "24\n",
            "22.7\n",
            "26.3\n",
            "28.1\n",
            "29.5\n",
            "30.8\n",
            "28.4\n",
            "26.4\n",
            "27.5\n",
            "26.4\n"
          ]
        }
      ]
    },
    {
      "cell_type": "code",
      "source": [
        "import csv\n",
        "f=open('/content/sample_data/기온자료.csv', encoding='cp949')\n",
        "data=csv.reader(f)\n",
        "next(data)\n",
        "max_temp=[]\n",
        "for row in data:\n",
        "  if row[-1] !='':\n",
        "    max_temp.append(row[-1])\n",
        "print(max_temp)"
      ],
      "metadata": {
        "colab": {
          "base_uri": "https://localhost:8080/"
        },
        "id": "4T0Sg9nqoUYc",
        "outputId": "e5422120-8af9-409f-9551-ddcdb0355c19"
      },
      "execution_count": null,
      "outputs": [
        {
          "output_type": "stream",
          "name": "stdout",
          "text": [
            "['29.8', '30', '30.5', '29.8', '27.5', '32', '32', '30.2', '30.2', '27.9', '24', '28.4', '25.5', '28.4', '22.5', '20.3', '24.9', '30.4', '29.8', '29.2', '24', '22.7', '26.3', '28.1', '29.5', '30.8', '28.4', '26.4', '27.5', '26.4']\n"
          ]
        }
      ]
    },
    {
      "cell_type": "code",
      "source": [
        "import matplotlib.pyplot as plt\n",
        "plt.plot(max_temp,'hotpink')"
      ],
      "metadata": {
        "colab": {
          "base_uri": "https://localhost:8080/",
          "height": 283
        },
        "id": "c2hq1d5voUf6",
        "outputId": "696e0624-32e8-4f55-c03f-4279564ee125"
      },
      "execution_count": null,
      "outputs": [
        {
          "output_type": "execute_result",
          "data": {
            "text/plain": [
              "[<matplotlib.lines.Line2D at 0x7f4608a05790>]"
            ]
          },
          "metadata": {},
          "execution_count": 9
        },
        {
          "output_type": "display_data",
          "data": {
            "text/plain": [
              "<Figure size 432x288 with 1 Axes>"
            ],
            "image/png": "[encoded data removed]"
          },
          "metadata": {
            "needs_background": "light"
          }
        }
      ]
    },
    {
      "cell_type": "code",
      "source": [
        "import numpy\n",
        "import pandas"
      ],
      "metadata": {
        "id": "IFE-wQgiC7c2"
      },
      "execution_count": null,
      "outputs": []
    },
    {
      "cell_type": "code",
      "source": [
        "import csv\n",
        "b = open('/content/sample_data/춘천.csv', encoding='cp949')\n",
        "data_temp = csv.reader(b)\n",
        "header = next(data_temp)\n",
        "max_temp = 0  #온도 초기값\n",
        "max_data = '' #날짜 초기값\n",
        "for row in data_temp:\n",
        "  if row[-1] == '':\n",
        "    row[-1] = -999\n",
        "  row[-1] = float(row[-1])\n",
        "  if max_temp < row[-1]:\n",
        "    max_data = row[0]\n",
        "    max_temp = row[-1]\n",
        "\n",
        "b.close()\n",
        "print(\"최고 기온\",max_data,max_temp)"
      ],
      "metadata": {
        "id": "K49dGsDGqVya",
        "colab": {
          "base_uri": "https://localhost:8080/"
        },
        "outputId": "ef717102-4628-46b8-840e-e748b9f486fd"
      },
      "execution_count": null,
      "outputs": [
        {
          "output_type": "stream",
          "name": "stdout",
          "text": [
            "최고 기온 2022-08-21 32.8\n"
          ]
        }
      ]
    },
    {
      "cell_type": "code",
      "source": [
        "import csv\n",
        "b = open('/content/sample_data/춘천.csv', encoding='cp949')\n",
        "data_temp = csv.reader(b)\n",
        "header = next(data_temp)\n",
        "max_temp = 0  #온도 초기값\n",
        "max_data = '' #날짜 초기값\n",
        "for row in data_temp:\n",
        "  if row[-2] == '':\n",
        "    row[-2] = 999\n",
        "  row[-2] = float(row[-2])\n",
        "  if max_temp > row[-2]:\n",
        "    max_data = row[0]\n",
        "    max_temp = row[-2]\n",
        "\n",
        "b.close()\n",
        "print(\"최저 기온\",max_data,max_temp)"
      ],
      "metadata": {
        "colab": {
          "base_uri": "https://localhost:8080/"
        },
        "id": "kbP46B3sCTrf",
        "outputId": "b6cc8259-8328-4fbe-f54f-deeaf49fac9e"
      },
      "execution_count": null,
      "outputs": [
        {
          "output_type": "stream",
          "name": "stdout",
          "text": [
            "최저 기온  0\n"
          ]
        }
      ]
    }
  ]
}