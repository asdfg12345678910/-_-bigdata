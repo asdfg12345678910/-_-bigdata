{
  "nbformat": 4,
  "nbformat_minor": 0,
  "metadata": {
    "colab": {
      "private_outputs": true,
      "provenance": [],
      "include_colab_link": true
    },
    "kernelspec": {
      "name": "python3",
      "display_name": "Python 3"
    },
    "language_info": {
      "name": "python"
    },
    "accelerator": "GPU"
  },
  "cells": [
    {
      "cell_type": "markdown",
      "metadata": {
        "id": "view-in-github",
        "colab_type": "text"
      },
      "source": [
        "<a href=\"https://colab.research.google.com/github/asdfg12345678910/-_-bigdata/blob/main/2022_09_21_%EB%B6%84%EC%84%9D%EC%9E%85%EB%AC%B8_%EC%9C%A0%ED%98%84%EC%8A%B9_ipynb%EC%9D%98_%EC%82%AC%EB%B3%B8.ipynb\" target=\"_parent\"><img src=\"https://colab.research.google.com/assets/colab-badge.svg\" alt=\"Open In Colab\"/></a>"
      ]
    },
    {
      "cell_type": "code",
      "execution_count": null,
      "metadata": {
        "id": "3x8-Xq9NbhGI"
      },
      "outputs": [],
      "source": [
        "import csv\n",
        "b = open('/content/ta_20220921093118.csv', encoding='cp949')\n",
        "data_temp = csv.reader(b)\n",
        "header = next(data_temp)\n",
        "max_temp = 0  #온도 초기값\n",
        "max_data = '' #날짜 초기값\n",
        "for row in data_temp:\n",
        "  if row[-1] == '':\n",
        "    row[-1] = -999\n",
        "  row[-1] = float(row[-1])\n",
        "  if max_temp < row[-1]:\n",
        "    max_data = row[0]\n",
        "    max_temp = row[-1]\n",
        "\n",
        "b.close()\n",
        "print(\"최고 기온\",max_data,max_temp)"
      ]
    },
    {
      "cell_type": "code",
      "source": [
        "import matplotlib.pyplot as plt\n"
      ],
      "metadata": {
        "id": "cp0A0qJpqBXX"
      },
      "execution_count": null,
      "outputs": []
    },
    {
      "cell_type": "code",
      "source": [
        "import csv\n",
        "b = open('/content/ta_20220921093118.csv', encoding='cp949')\n",
        "data_temp = csv.reader(b)\n",
        "\n",
        "next(data_temp)\n",
        "\n",
        "max_temp = 0  #최고 온도 초기값\n",
        "max_data = '' #최고 기온 날짜\n",
        "\n",
        "min_temp = 0 #최저 기온 초기값\n",
        "min_data = ''#최저 기온 날짜\n",
        "\n",
        "mean_temp = [] #평균 기온 초기값\n",
        "mean_data = [] #평균 기온 날짜\n",
        "\n",
        "aug_max = 0 #8월 최고 기온\n",
        "aug_max_date = '' #8월 최고 기온 날짜\n",
        "\n",
        "aug_min = 999 #8월 최저 기온\n",
        "aug_min_date = '' #8월 최저 기온 날짜\n",
        "\n",
        "aug_mean = [] #8월 평균 기온\n",
        "aug_mean_date = [] #8월 평균 기온 날짜\n",
        "\n",
        "birthday_tmp = [] #생일 기온 리스트\n",
        "birthday_tmp_date = []\n",
        "act_bd_temp = [] #2002년 생일의 기온\n",
        "\n",
        "rep = 0\n",
        "\n",
        "for row in data_temp:\n",
        "  if row[-1] == '':\n",
        "    row[-1] = -999\n",
        "\n",
        "  if row[-2] == '':\n",
        "    row[-2] = 999\n",
        "\n",
        "  row[-1] = float(row[-1])\n",
        "  row[-2] = float(row[-2])\n",
        "\n",
        "  if max_temp < row[-1]:  ##최고 기온 새로고침\n",
        "    max_data = row[0]\n",
        "    max_temp = row[-1]\n",
        "\n",
        "  if min_temp > row[-2]:  ##최저 기온 새로고침\n",
        "    min_data = row[0]\n",
        "    min_temp = row[-2]\n",
        "\n",
        "   ##평균 기온 새로고침\n",
        "  mean_temp.append(row[-3])\n",
        "  mean_data.append(row[0])\n",
        "\n",
        "  if row[0].split('-')[1] == '08':\n",
        "\n",
        "    if aug_max < row[-1]:  ##최고 기온 새로고침\n",
        "      aug_max_date = row[0]\n",
        "      aug_max = row[-1]\n",
        "\n",
        "    if aug_min > row[-2]:  ##최저 기온 새로고침\n",
        "      aug_min_date = row[0]\n",
        "      aug_min = row[-2]\n",
        "\n",
        "    aug_mean.append(row[-3])\n",
        "    aug_mean_date.append(row[0])\n",
        "\n",
        "  if row[0].split('-')[1] == '09' and row[0].split('-')[2] == '21':\n",
        "    birthday_tmp.append(row[-3])\n",
        "    birthday_tmp_date.append(row[0])\n",
        "\n",
        "  if row[0].split('-')[0] == '2002' and row[0].split('-')[1] == '09' and row[0].split('-')[2] == '21':\n",
        "    act_bd_temp = row\n",
        "\n",
        "##시각화 단계\n",
        "\n",
        "print(\"최고 기온\",max_data,max_temp,'\\n')\n",
        "print(\"최저 기온\",min_data,min_temp,'\\n')\n",
        "\n",
        "print(\"8월 최고 기온\",aug_max_date,aug_max,'\\n')\n",
        "print(\"8월 최저 기온\",aug_min_date,aug_min,'\\n')\n",
        "\n",
        "print(\"태어난 날의 기온\",act_bd_temp,'\\n')\n",
        "\n",
        "plt.plot(mean_data,mean_temp,'r',label='평균 기온') # 평균 기온\n",
        "plt.plot(aug_mean_date,aug_mean,'b',label='8월 평균 기온') # 8월 평균 기온\n",
        "plt.plot(birthday_tmp_date,birthday_tmp,'g',label='생일 기온') # 생일인 날의 기온\n",
        "\n",
        "\n"
      ],
      "metadata": {
        "id": "DCRK0ZjvfLnN"
      },
      "execution_count": null,
      "outputs": []
    }
  ]
}